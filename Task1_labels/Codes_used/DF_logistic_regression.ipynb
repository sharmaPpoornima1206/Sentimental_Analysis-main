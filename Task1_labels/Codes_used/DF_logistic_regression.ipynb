{
  "nbformat": 4,
  "nbformat_minor": 0,
  "metadata": {
    "colab": {
      "provenance": []
    },
    "kernelspec": {
      "name": "python3",
      "display_name": "Python 3"
    },
    "language_info": {
      "name": "python"
    }
  },
  "cells": [
    {
      "cell_type": "code",
      "execution_count": 3,
      "metadata": {
        "id": "GNz_DH1zsz1T",
        "colab": {
          "base_uri": "https://localhost:8080/"
        },
        "outputId": "23026a12-44b8-4cc3-e944-f20e2ea59919"
      },
      "outputs": [
        {
          "output_type": "stream",
          "name": "stdout",
          "text": [
            "X_Samples =  1000\n",
            "y_Samples =  1000\n",
            "Labels ={'ag', 'iot', 'public', 'cyber', 'util', 'dei', 'mobility', 'edu', 'govt data', 'connect', 'enviro', 'other'}\n",
            "count_labels= 12\n",
            "[['public', 'govt data'], ['public', 'mobility'], ['public', 'mobility'], ['mobility', 'enviro'], ['public', 'util'], ['mobility', 'connect'], ['govt data', 'edu'], ['mobility', 'public'], ['iot', 'cyber'], ['edu', 'govt data'], ['iot', 'edu'], ['iot', 'public'], ['edu', 'connect'], ['govt data', 'edu'], ['edu', 'iot'], ['iot', 'connect'], ['iot', 'govt data'], ['iot', 'edu'], ['mobility', 'public'], ['public', 'connect'], ['edu', 'cyber'], ['public', 'util'], ['iot', 'cyber'], ['other', 'other'], ['public', 'govt data'], ['public', 'util'], ['public', 'cyber'], ['connect', 'iot'], ['cyber', 'public'], ['edu', 'cyber'], ['edu', 'govt data'], ['connect', 'cyber'], ['public', 'mobility'], ['enviro', 'iot'], ['connect', 'iot'], ['iot', 'edu'], ['public', 'mobility'], ['edu', 'connect'], ['edu', 'connect'], ['public', 'edu'], ['public', 'mobility'], ['mobility', 'util'], ['connect', 'cyber'], ['public', 'iot'], ['iot', 'connect'], ['govt data', 'iot'], ['iot', 'util'], ['mobility', 'public'], ['iot', 'edu'], ['iot', 'util'], ['govt data', 'public'], ['iot', 'public'], ['connect', 'iot'], ['util', 'public'], ['edu', 'cyber'], ['other', 'other'], ['edu', 'edu'], ['other', 'other'], ['connect', 'other'], ['other', 'other'], ['enviro', 'util'], ['other', 'other'], ['other', 'other'], ['mobility', 'edu'], ['edu', 'edu'], ['iot', 'connect'], ['iot', 'connect'], ['mobility', 'edu'], ['connect', 'iot'], ['mobility', 'edu'], ['other', 'other'], ['iot', 'edu'], ['edu', 'edu'], ['iot', 'edu'], ['edu', 'iot'], ['iot', 'mobility'], ['edu', 'util'], ['other', 'other'], ['connect', 'edu'], ['edu', 'connect'], ['connect', 'connect'], ['edu', 'edu'], ['other', 'other'], ['edu', 'edu'], ['other', 'other'], ['iot', 'connect'], ['connect', 'iot'], ['util', 'public'], ['public', 'util'], ['other', 'other'], ['cyber', 'connect'], ['other', 'other'], ['edu', 'edu'], ['public', 'edu'], ['other', 'other'], ['iot', 'iot'], ['iot', 'util'], ['util', 'connect'], ['public', 'public'], ['other', 'other'], ['other', 'connect'], ['other', 'other'], ['cyber', 'cyber'], ['connect', 'connect'], ['connect', 'connect'], ['connect', 'public'], ['other', 'other'], ['iot', 'cyber'], ['edu', 'edu'], ['iot', 'edu'], ['connect', 'connect'], ['connect', 'iot'], ['public', 'util'], ['edu', 'public'], ['public', 'public'], ['other', 'other'], ['other', 'other'], ['other', 'other'], ['iot', 'edu'], ['mobility', 'connect'], ['util', 'public'], ['other', 'other'], ['connect', 'mobility'], ['mobility', 'mobility'], ['connect', 'edu'], ['other', 'other'], ['other', 'other'], ['connect', 'edu'], ['connect', 'edu'], ['other', 'other'], ['other', 'other'], ['other', 'other'], ['connect', 'edu'], ['connect', 'edu'], ['connect', 'edu'], ['other', 'other'], ['util', 'public'], ['connect', 'edu'], ['mobility', 'connect'], ['edu', 'dei'], ['other', 'other'], ['other', 'other'], ['edu', 'dei'], ['connect', 'edu'], ['connect', 'edu'], ['other', 'other'], ['other', 'other'], ['edu', 'public'], ['edu', 'public'], ['other', 'other'], ['other', 'other'], ['other', 'other'], ['connect', 'edu'], ['enviro', 'mobility'], ['edu', 'public'], ['edu', 'public'], ['iot', 'public'], ['other', 'other'], ['edu', 'public'], ['other', 'other'], ['mobility', 'public'], ['mobility', 'public'], ['other', 'other'], ['iot', 'util'], ['other', 'other'], ['edu', 'public'], ['edu', 'public'], ['other', 'other'], ['other', 'other'], ['other', 'other'], ['other', 'other'], ['other', 'other'], ['public', 'enviro'], ['other', 'other'], ['other', 'other'], ['other', 'other'], ['other', 'other'], ['mobility', 'public'], ['other', 'other'], ['other', 'other'], ['other', 'other'], ['mobility', 'public'], ['other', 'other'], ['other', 'other'], ['edu', 'dei'], ['other', 'other'], ['iot', 'util'], ['iot', 'util'], ['mobility', 'util'], ['mobility', 'util'], ['mobility', 'util'], ['public', 'other'], ['mobility', 'util'], ['other', 'other'], ['other', 'other'], ['public', 'edu'], ['other', 'other'], ['enviro', 'mobility'], ['util', 'edu'], ['util', 'edu'], ['other', 'other'], ['other', 'other'], ['other', 'other'], ['other', 'other'], ['mobility', 'connect'], ['other', 'other'], ['mobility', 'util'], ['connect', 'mobility'], ['mobility', 'util'], ['govt data', 'iot'], ['mobility', 'connect'], ['mobility', 'util'], ['cyber', 'iot'], ['connect', 'iot'], ['mobility', 'util'], ['mobility', 'util'], ['mobility', 'util'], ['mobility', 'util'], ['mobility', 'util'], ['other', 'other'], ['iot', 'iot'], ['govt data', 'iot'], ['iot', 'iot'], ['iot', 'edu'], ['other', 'other'], ['other', 'other'], ['public', 'public'], ['mobility', 'util'], ['mobility', 'util'], ['edu', 'util'], ['mobility', 'util'], ['mobility', 'util'], ['other', 'other'], ['enviro', 'mobility'], ['connect', 'mobility'], ['connect', 'mobility'], ['mobility', 'util'], ['connect', 'mobility'], ['connect', 'util'], ['connect', 'iot'], ['connect', 'iot'], ['mobility', 'util'], ['connect', 'iot'], ['connect', 'iot'], ['other', 'other'], ['other', 'other'], ['other', 'other'], ['other', 'other'], ['mobility', 'util'], ['mobility', 'util'], ['other', 'other'], ['iot', 'util'], ['mobility', 'util'], ['mobility', 'util'], ['mobility', 'util'], ['public', 'util'], ['other', 'other'], ['other', 'other'], ['public', 'util'], ['other', 'other'], ['public', 'util'], ['mobility', 'enviro'], ['other', 'other'], ['public', 'iot'], ['public', 'iot'], ['public', 'iot'], ['public', 'util'], ['mobility', 'util'], ['public', 'util'], ['public', 'util'], ['other', 'other'], ['public', 'util'], ['public', 'util'], ['public', 'enviro'], ['public', 'util'], ['other', 'other'], ['public', 'util'], ['public', 'util'], ['public', 'enviro'], ['govt data', 'public'], ['public', 'util'], ['public', 'util'], ['other', 'other'], ['other', 'other'], ['enviro', 'util'], ['mobility', 'util'], ['other', 'other'], ['other', 'other'], ['other', 'other'], ['mobility', 'util'], ['govt data', 'public'], ['mobility', 'util'], ['other', 'other'], ['other', 'other'], ['mobility', 'enviro'], ['other', 'other'], ['other', 'other'], ['mobility', 'util'], ['iot', 'util'], ['iot', 'util'], ['other', 'other'], ['other', 'other'], ['mobility', 'public'], ['iot', 'edu'], ['mobility', 'util'], ['mobility', 'enviro'], ['mobility', 'util'], ['mobility', 'util'], ['mobility', 'util'], ['mobility', 'util'], ['mobility', 'util'], ['mobility', 'util'], ['other', 'other'], ['mobility', 'util'], ['mobility', 'util'], ['mobility', 'util'], ['mobility', 'util'], ['connect', 'iot'], ['mobility', 'util'], ['mobility', 'util'], ['other', 'other'], ['other', 'other'], ['other', 'other'], ['other', 'other'], ['mobility', 'util'], ['mobility', 'util'], ['iot', 'util'], ['mobility', 'util'], ['other', 'other'], ['mobility', 'util'], ['iot', 'util'], ['mobility', 'util'], ['mobility', 'util'], ['mobility', 'util'], ['iot', 'util'], ['other', 'other'], ['other', 'other'], ['mobility', 'public'], ['util', 'public'], ['mobility', 'public'], ['other', 'other'], ['other', 'other'], ['other', 'other'], ['other', 'other'], ['mobility', 'public'], ['iot', 'mobility'], ['iot', 'mobility'], ['other', 'other'], ['mobility', 'util'], ['public', 'edu'], ['mobility', 'public'], ['other', 'other'], ['iot', 'mobility'], ['iot', 'util'], ['iot', 'edu'], ['util', 'public'], ['mobility', 'public'], ['other', 'other'], ['other', 'other'], ['mobility', 'iot'], ['mobility', 'iot'], ['mobility', 'iot'], ['util', 'iot'], ['other', 'other'], ['other', 'other'], ['util', 'iot'], ['util', 'iot'], ['other', 'other'], ['other', 'other'], ['mobility', 'util'], ['mobility', 'util'], ['util', 'iot'], ['other', 'other'], ['mobility', 'iot'], ['connect', 'iot'], ['connect', 'iot'], ['connect', 'iot'], ['connect', 'iot'], ['util', 'iot'], ['util', 'iot'], ['mobility', 'govt data'], ['util', 'iot'], ['other', 'other'], ['govt data', 'public'], ['govt data', 'public'], ['other', 'other'], ['other', 'other'], ['mobility', 'iot'], ['mobility', 'iot'], ['public', 'iot'], ['public', 'iot'], ['util', 'iot'], ['mobility', 'iot'], ['enviro', 'ag'], ['mobility', 'iot'], ['other', 'other'], ['other', 'other'], ['other', 'other'], ['mobility', 'iot'], ['other', 'other'], ['other', 'other'], ['util', 'util'], ['other', 'other'], ['other', 'other'], ['other', 'other'], ['public', 'edu'], ['other', 'other'], ['public', 'edu'], ['util', 'util'], ['mobility', 'mobility'], ['iot', 'mobility'], ['other', 'other'], ['other', 'other'], ['other', 'other'], ['other', 'other'], ['other', 'other'], ['mobility', 'public'], ['util', 'edu'], ['other', 'other'], ['other', 'other'], ['other', 'other'], ['other', 'other'], ['mobility', 'public'], ['public', 'dei'], ['mobility', 'edu'], ['enviro', 'edu'], ['other', 'other'], ['other', 'other'], ['mobility', 'util'], ['mobility', 'util'], ['mobility', 'util'], ['mobility', 'util'], ['iot', 'util'], ['mobility', 'util'], ['other', 'other'], ['other', 'other'], ['other', 'other'], ['other', 'other'], ['connect', 'util'], ['other', 'other'], ['connect', 'util'], ['other', 'public'], ['other', 'public'], ['govt data', 'public'], ['other', 'other'], ['other', 'other'], ['mobility', 'enviro'], ['connect', 'util'], ['iot', 'mobility'], ['mobility', 'mobility'], ['other', 'other'], ['iot', 'util'], ['iot', 'util'], ['iot', 'enviro'], ['iot', 'connect'], ['public', 'mobility'], ['iot', 'mobility'], ['iot', 'edu'], ['iot', 'edu'], ['public', 'edu'], ['public', 'edu'], ['other', 'other'], ['other', 'other'], ['mobility', 'mobility'], ['util', 'public'], ['iot', 'public'], ['iot', 'public'], ['iot', 'public'], ['iot', 'public'], ['other', 'other'], ['other', 'other'], ['mobility', 'mobility'], ['mobility', 'mobility'], ['mobility', 'mobility'], ['mobility', 'mobility'], ['iot', 'iot'], ['other', 'other'], ['other', 'other'], ['public', 'govt data'], ['util', 'util'], ['util', 'util'], ['util', 'util'], ['util', 'util'], ['util', 'util'], ['util', 'util'], ['cyber', 'connect'], ['cyber', 'connect'], ['mobility', 'mobility'], ['mobility', 'mobility'], ['other', 'other'], ['util', 'util'], ['mobility', 'mobility'], ['util', 'util'], ['util', 'util'], ['iot', 'public'], ['dei', 'dei'], ['edu', 'edu'], ['other', 'other'], ['other', 'other'], ['other', 'other'], ['connect', 'iot'], ['iot', 'connect'], ['cyber', 'enviro'], ['public', 'iot'], ['cyber', 'connect'], ['mobility', 'connect'], ['connect', 'iot'], ['iot', 'connect'], ['iot', 'govt data'], ['connect'], ['public', 'connect'], ['mobility'], ['enviro', 'mobility'], ['public'], ['edu', 'connect'], ['mobility', 'connect'], ['connect', 'mobility'], ['iot'], ['enviro'], ['govt data'], ['connect'], ['cyber'], ['connect'], ['cyber', 'connect'], ['public', 'connect'], ['public', 'iot'], ['other'], ['cyber'], ['mobility', 'connect'], ['connect'], ['iot'], ['connect'], ['connect'], ['public'], ['enviro'], ['mobility', 'connect'], ['iot'], ['public', 'iot'], ['util'], ['mobility'], ['cyber'], ['public'], ['public'], ['connect'], ['cyber', 'connect'], ['edu'], ['public'], ['mobility'], ['mobility'], ['enviro'], ['util'], ['util'], ['mobility'], ['mobility'], ['connect'], ['util'], ['ag', 'connect'], ['mobility'], ['dei'], ['enviro', 'public'], ['connect'], ['iot'], ['public'], ['connect', 'iot'], ['util'], ['mobility', 'edu'], ['public'], ['govt data', 'public'], ['connect'], ['mobility', 'iot'], ['connect', 'util'], ['public', 'connect'], ['mobility'], ['public'], ['connect'], ['cyber', 'iot'], ['connect'], ['connect'], ['mobility'], ['util'], ['public', 'connect'], ['connect'], ['util'], ['util'], ['public', 'iot'], ['connect', 'public'], ['public', 'connect'], ['iot', 'util'], ['cyber'], ['public'], ['public', 'util'], ['mobility', 'iot'], ['connect', 'iot'], ['dei'], ['other'], ['govt data', 'enviro'], ['other'], ['public', 'iot'], ['dei'], ['connect', 'dei'], ['public'], ['other'], ['public', 'connect'], ['connect'], ['public'], ['other'], ['util', 'iot'], ['cyber'], ['edu'], ['mobility'], ['connect'], ['public', 'connect'], ['cyber', 'public'], ['mobility'], ['edu'], ['util'], ['edu'], ['public'], ['connect'], ['mobility'], ['cyber'], ['enviro'], ['public'], ['cyber'], ['mobility', 'public'], ['public', 'dei'], ['edu'], ['util'], ['mobility'], ['other'], ['public', 'util'], ['connect', 'public'], ['connect'], ['public'], ['mobility', 'public'], ['util'], ['public', 'connect'], ['enviro'], ['public', 'dei'], ['edu'], ['util', 'connect'], ['cyber', 'public'], ['util'], ['mobility', 'connect'], ['cyber'], ['util'], ['cyber', 'cyber'], ['connect'], ['connect', 'iot'], ['public'], ['util', 'connect'], ['edu', 'util'], ['connect'], ['other'], ['connect'], ['other'], ['public', 'util'], ['util'], ['public'], ['govt data', 'edu'], ['connect'], ['util'], ['public', 'connect'], ['util'], ['enviro'], ['util'], ['iot'], ['mobility', 'connect'], ['mobility', 'connect'], ['cyber', 'govt data'], ['connect'], ['mobility'], ['util'], ['mobility', 'public'], ['mobility'], ['public', 'enviro'], ['public', 'ag'], ['connect'], ['public'], ['public'], ['enviro'], ['connect'], ['public'], ['connect'], ['mobility'], ['mobility'], ['connect'], ['enviro'], ['connect'], ['util'], ['util'], ['public', 'other'], ['public'], ['dei'], ['util'], ['ag'], ['edu', 'other'], ['enviro'], ['edu'], ['mobility'], ['util'], ['util'], ['mobility'], ['public'], ['mobility'], ['connect'], ['dei'], ['util'], ['dei'], ['dei'], ['connect'], ['enviro'], ['dei'], ['dei'], ['dei'], ['mobility'], ['dei'], ['connect'], ['mobility'], ['dei'], ['util'], ['dei'], ['iot'], ['dei'], ['iot'], ['util', 'enviro'], ['dei'], ['enviro'], ['iot'], ['mobility'], ['mobility'], ['util'], ['govt data'], ['edu'], ['connect'], ['connect'], ['enviro', 'util'], ['dei'], ['iot'], ['dei'], ['connect'], ['mobility'], ['mobility'], ['connect'], ['mobility'], ['mobility', 'util'], ['mobility'], ['dei', 'iot'], ['mobility'], ['mobility'], ['other'], ['enviro', 'dei'], ['cyber'], ['util'], ['util'], ['dei'], ['dei'], ['connect'], ['iot'], ['connect'], ['dei'], ['util'], ['enviro'], ['iot'], ['public'], ['edu'], ['iot'], ['iot'], ['enviro'], ['dei'], ['util'], ['dei', 'iot'], ['other'], ['iot'], ['other'], ['connect'], ['public', 'connect'], ['util'], ['iot'], ['connect'], ['connect'], ['connect'], ['iot'], ['iot'], ['cyber'], ['dei'], ['mobility'], ['mobility', 'enviro'], ['iot'], ['iot'], ['enviro'], ['iot'], ['iot'], ['util'], ['enviro'], ['connect'], ['other'], ['iot', 'mobility'], ['dei'], ['iot'], ['connect', 'iot'], ['mobility', 'enviro'], ['dei'], ['dei', 'iot'], ['connect'], ['enviro'], ['connect'], ['dei'], ['other'], ['other'], ['connect'], ['cyber'], ['dei'], ['dei'], ['connect'], ['connect'], ['util'], ['connect'], ['dei'], ['public'], ['dei'], ['util'], ['dei'], ['connect'], ['iot'], ['dei'], ['mobility', 'connect'], ['connect'], ['iot'], ['other'], ['connect'], ['dei'], ['mobility'], ['mobility', 'util'], ['connect'], ['connect'], ['mobility'], ['util', 'connect'], ['mobility'], ['connect', 'govt data'], ['other'], ['connect'], ['connect'], ['connect', 'util'], ['connect'], ['public'], ['public', 'enviro'], ['connect', 'util'], ['util', 'enviro'], ['mobility'], ['cyber'], ['iot', 'cyber'], ['iot'], ['connect'], ['connect'], ['connect'], ['iot'], ['mobility', 'iot'], ['edu', 'iot'], ['connect'], ['connect', 'util'], ['dei', 'connect'], ['util', 'mobility'], ['iot', 'connect'], ['dei'], ['connect'], ['connect'], ['dei'], ['connect'], ['util'], ['util'], ['enviro', 'mobility'], ['enviro', 'iot'], ['dei'], ['dei'], ['connect'], ['util'], ['connect'], ['other'], ['edu', 'iot'], ['connect'], ['iot'], ['mobility'], ['iot', 'connect'], ['util'], ['iot', 'connect'], ['util'], ['govt data'], ['mobility'], ['connect'], ['connect'], ['mobility', 'enviro'], ['public'], ['connect'], ['mobility'], ['util'], ['connect'], ['edu'], ['connect'], ['dei'], ['public'], ['cyber'], ['public', 'connect'], ['iot'], ['enviro', 'iot'], ['iot'], ['connect'], ['public'], ['other'], ['connect', 'iot'], ['mobility', 'enviro'], ['iot'], ['other'], ['mobility', 'iot'], ['connect'], ['govt data', 'iot'], ['public', 'iot'], ['enviro'], ['mobility', 'util'], ['mobility', 'connect'], ['enviro'], ['mobility'], ['cyber'], ['mobility', 'enviro'], ['enviro', 'util'], ['govt data'], ['mobility'], ['mobility', 'connect'], ['iot'], ['connect'], ['connect'], ['connect'], ['mobility'], ['cyber', 'mobility'], ['govt data'], ['mobility'], ['mobility'], ['other'], ['iot', 'util'], ['public'], ['other'], ['dei'], ['other'], ['iot'], ['public'], ['dei'], ['public'], ['dei'], ['cyber'], ['iot'], ['mobility'], ['public'], ['util'], ['other'], ['govt data'], ['connect'], ['connect'], ['connect'], ['mobility', 'connect'], ['mobility'], ['mobility', 'enviro'], ['enviro', 'public'], ['iot'], ['mobility', 'connect'], ['edu', 'public'], ['connect'], ['other'], ['mobility'], ['public', 'dei'], ['other'], ['govt data'], ['util'], ['public'], ['connect'], ['mobility', 'connect'], ['mobility'], ['other'], ['connect'], ['mobility'], ['mobility'], ['mobility'], ['mobility'], ['cyber'], ['mobility'], ['iot', 'mobility'], ['util'], ['dei', 'public'], ['mobility', 'enviro'], ['public'], ['iot'], ['mobility', 'connect'], ['mobility'], ['mobility', 'enviro'], ['iot'], ['mobility', 'enviro'], ['mobility'], ['other', 'iot'], ['enviro', 'iot'], ['iot'], ['enviro']]\n"
          ]
        }
      ],
      "source": [
        "import numpy as np\n",
        "from sklearn import preprocessing\n",
        "import csv\n",
        "from sklearn.svm import LinearSVC\n",
        "from sklearn.model_selection import train_test_split\n",
        "from sklearn.model_selection import GridSearchCV\n",
        "from sklearn.feature_extraction.text import CountVectorizer\n",
        "from sklearn.metrics import accuracy_score, f1_score\n",
        "from sklearn.pipeline import Pipeline\n",
        "from sklearn.feature_extraction.text import TfidfTransformer\n",
        "from sklearn.multiclass import OneVsRestClassifier\n",
        "\n",
        "# Here is the file path to give\n",
        "\n",
        "# This is cleaning data converting into matrices form \n",
        "# Here stripped of whitespaces and converted into lower case \n",
        "\n",
        "\n",
        "\n",
        "with open(\"/content/drive/MyDrive/Colab Notebooks/DF_project/Full_set.csv\") as file:\n",
        "  reader = csv.reader(file, delimiter=',')\n",
        "  next(reader)\n",
        "  count = 0\n",
        "  set1 = set()\n",
        "  X_tmp =[]\n",
        "  y_tmp =[]\n",
        "  for line in reader:\n",
        "    y1 =[]\n",
        "    X_tmp.append(line[0].lower().strip())\n",
        "    count = count +1\n",
        "    #new = line[1].split(\"|\")\n",
        "    #print(new)\n",
        "    y1.append(line[1].lower().strip())\n",
        "    set1.add(line[1].lower().strip())\n",
        "    if line[2] != '':\n",
        "      y1.append(line[2].lower().strip())\n",
        "    \n",
        "    y_tmp.append(y1)\n",
        "\n",
        "    #if count == 10:\n",
        "      #break\n",
        "\n",
        "print(\"X_Samples = \",len(X_tmp))\n",
        "print(\"y_Samples = \",len(y_tmp))\n",
        "\n",
        "\n",
        "\n",
        "\n",
        "#print(len(y_tmp))\n",
        "\n",
        "print(f\"Labels ={set1}\")\n",
        "print(\"count_labels=\", len(set1))\n",
        "\n",
        "print(y_tmp)\n"
      ]
    },
    {
      "cell_type": "code",
      "source": [
        "\n",
        "\n",
        "# Now splitting into train and test data\n",
        "\n",
        "X_txt_train, X_txt_test, y_train_text, y_test_text = train_test_split(X_tmp, y_tmp, test_size=0.2, random_state=42)\n",
        "\n",
        "\n",
        "#print(y_test_text)\n",
        "#print(X_txt_test)\n",
        "\n",
        "# converting into numpy arrays\n",
        "\n",
        "X_train = np.array(X_txt_train)\n",
        "X_test = np.array(X_txt_test)\n"
      ],
      "metadata": {
        "id": "IcjRSVDfs6nV"
      },
      "execution_count": 4,
      "outputs": []
    },
    {
      "cell_type": "code",
      "source": [
        "from sklearn.linear_model import LogisticRegression\n",
        "from sklearn.pipeline import Pipeline\n",
        "from sklearn.metrics import accuracy_score\n",
        "from sklearn.multiclass import OneVsRestClassifier\n",
        "from sklearn.metrics import precision_score, recall_score, f1_score\n",
        "import sklearn.metrics\n",
        "from sklearn.multioutput import MultiOutputClassifier\n",
        "\n",
        "lb = preprocessing.MultiLabelBinarizer(classes=('connect', 'dei', 'iot', 'cyber', 'enviro', 'util', 'edu', 'other', 'govt data', 'ag', 'public', 'mobility'))\n",
        "y_train = lb.fit_transform(y_train_text)\n",
        "y_test = lb.transform(y_test_text)\n",
        "#print(y_test)\n",
        "print(y_train.shape)\n",
        "print(y_test.shape)\n",
        "LogReg_pipeline = Pipeline([('vectorizer', CountVectorizer()),\n",
        "('tfidf', TfidfTransformer()),\n",
        "                ('clf', OneVsRestClassifier(LogisticRegression()))])\n",
        "LogReg_pipeline.fit(X_train, y_train)\n",
        "predicted = LogReg_pipeline.predict(X_test)\n",
        "\n",
        "\n",
        "\n",
        "print(predicted)\n",
        "\n",
        "\n",
        "print(\"Accuracy Score: \",accuracy_score(y_test, predicted))\n",
        "\n",
        "\n",
        "precision = precision_score(predicted,y_test,average=\"macro\") \n",
        "recall = recall_score(predicted,y_test,average=\"macro\")\n",
        "f1 = f1_score(y_test,predicted, average=\"macro\")\n",
        "\n",
        "\n",
        "f1 = f1_score(y_test,predicted, average=\"macro\")\n",
        "print(\"Precision: {:.4f}\".format(precision))\n",
        "print(\"Recall: {:.4f}\".format(recall))\n",
        "print(\"F1: {:.4f}\".format(f1))\n",
        "\n",
        "\n",
        "\"\"\"\n",
        "a =metrics.f1_score(y_test, y_pred, average='weighted', labels=np.unique(y_pred)\n",
        "print(a)\n",
        "\"\"\""
      ],
      "metadata": {
        "id": "B0Fr-xr2s7X3",
        "colab": {
          "base_uri": "https://localhost:8080/",
          "height": 420
        },
        "outputId": "68b8a21d-5b41-46b2-9b02-ef1d229c17e2"
      },
      "execution_count": 5,
      "outputs": [
        {
          "output_type": "stream",
          "name": "stdout",
          "text": [
            "(800, 12)\n",
            "(200, 12)\n",
            "[[0 0 0 ... 0 0 0]\n",
            " [0 0 0 ... 0 0 0]\n",
            " [0 0 0 ... 0 0 0]\n",
            " ...\n",
            " [0 0 0 ... 0 0 0]\n",
            " [0 0 0 ... 0 0 0]\n",
            " [0 0 0 ... 0 0 0]]\n",
            "Accuracy Score:  0.025\n",
            "Precision: 0.0195\n",
            "Recall: 0.1278\n",
            "F1: 0.0324\n"
          ]
        },
        {
          "output_type": "stream",
          "name": "stderr",
          "text": [
            "/usr/local/lib/python3.8/dist-packages/sklearn/metrics/_classification.py:1318: UndefinedMetricWarning: Precision is ill-defined and being set to 0.0 in labels with no predicted samples. Use `zero_division` parameter to control this behavior.\n",
            "  _warn_prf(average, modifier, msg_start, len(result))\n",
            "/usr/local/lib/python3.8/dist-packages/sklearn/metrics/_classification.py:1318: UndefinedMetricWarning: Recall is ill-defined and being set to 0.0 in labels with no true samples. Use `zero_division` parameter to control this behavior.\n",
            "  _warn_prf(average, modifier, msg_start, len(result))\n",
            "/usr/local/lib/python3.8/dist-packages/sklearn/metrics/_classification.py:1580: UndefinedMetricWarning: F-score is ill-defined and being set to 0.0 in labels with no true nor predicted samples. Use `zero_division` parameter to control this behavior.\n",
            "  _warn_prf(average, \"true nor predicted\", \"F-score is\", len(true_sum))\n",
            "/usr/local/lib/python3.8/dist-packages/sklearn/metrics/_classification.py:1580: UndefinedMetricWarning: F-score is ill-defined and being set to 0.0 in labels with no true nor predicted samples. Use `zero_division` parameter to control this behavior.\n",
            "  _warn_prf(average, \"true nor predicted\", \"F-score is\", len(true_sum))\n"
          ]
        },
        {
          "output_type": "execute_result",
          "data": {
            "text/plain": [
              "\"\\na =metrics.f1_score(y_test, y_pred, average='weighted', labels=np.unique(y_pred)\\nprint(a)\\n\""
            ],
            "application/vnd.google.colaboratory.intrinsic+json": {
              "type": "string"
            }
          },
          "metadata": {},
          "execution_count": 5
        }
      ]
    }
  ]
}